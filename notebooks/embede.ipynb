{
 "cells": [
  {
   "cell_type": "code",
   "execution_count": 1,
   "id": "21c6452a",
   "metadata": {},
   "outputs": [
    {
     "name": "stderr",
     "output_type": "stream",
     "text": [
      "c:\\Users\\techin\\Complaint_Analysis_Financial_Services\\venv\\Lib\\site-packages\\tqdm\\auto.py:21: TqdmWarning: IProgress not found. Please update jupyter and ipywidgets. See https://ipywidgets.readthedocs.io/en/stable/user_install.html\n",
      "  from .autonotebook import tqdm as notebook_tqdm\n"
     ]
    }
   ],
   "source": [
    "from sentence_transformers import SentenceTransformer\n",
    "import faiss\n",
    "import pandas as pd\n",
    "import numpy as np\n",
    "import pickle"
   ]
  },
  {
   "cell_type": "code",
   "execution_count": 2,
   "id": "38031a05",
   "metadata": {},
   "outputs": [],
   "source": [
    "df = pd.read_csv(\"C:/Users/techin/Complaint_Analysis_Financial_Services/data/chunked_complaints.csv\")"
   ]
  },
  {
   "cell_type": "code",
   "execution_count": 3,
   "id": "3f199557",
   "metadata": {},
   "outputs": [],
   "source": [
    "# Initialize model\n",
    "model = SentenceTransformer('sentence-transformers/all-MiniLM-L6-v2')"
   ]
  },
  {
   "cell_type": "code",
   "execution_count": 4,
   "id": "4c6b384a",
   "metadata": {},
   "outputs": [
    {
     "name": "stderr",
     "output_type": "stream",
     "text": [
      "Batches: 100%|██████████| 18962/18962 [5:38:11<00:00,  1.07s/it]   \n"
     ]
    }
   ],
   "source": [
    "# Compute embeddings\n",
    "texts = df['chunk_text'].tolist()\n",
    "embeddings = model.encode(texts, show_progress_bar=True, batch_size=64)"
   ]
  },
  {
   "cell_type": "code",
   "execution_count": 7,
   "id": "df2813c9",
   "metadata": {},
   "outputs": [
    {
     "name": "stdout",
     "output_type": "stream",
     "text": [
      "✅ Index and metadata saved.\n"
     ]
    }
   ],
   "source": [
    "# Convert to float32 for FAISS\n",
    "embeddings = np.array(embeddings).astype(\"float32\")\n",
    "\n",
    "# Build FAISS index\n",
    "dimension = embeddings.shape[1]  # should be 384\n",
    "index = faiss.IndexFlatL2(dimension)\n",
    "index.add(embeddings)\n",
    "\n",
    "# Save index\n",
    "faiss.write_index(index, \"C:/Users/techin/Complaint_Analysis_Financial_Services/vector_store/directory/complaints_index.faiss\")\n",
    "\n",
    "# Save metadata (to match retrieved vectors back to complaints)\n",
    "metadata = df[['complaint_id', 'product']].to_dict(orient='records')\n",
    "with open(\"C:/Users/techin/Complaint_Analysis_Financial_Services/vector_store/directory/complaints_metadata.pkl\", \"wb\") as f:\n",
    "    pickle.dump(metadata, f)\n",
    "\n",
    "print(\"✅ Index and metadata saved.\")"
   ]
  },
  {
   "cell_type": "code",
   "execution_count": null,
   "id": "17ca1dc2",
   "metadata": {},
   "outputs": [],
   "source": []
  }
 ],
 "metadata": {
  "kernelspec": {
   "display_name": "venv",
   "language": "python",
   "name": "python3"
  },
  "language_info": {
   "codemirror_mode": {
    "name": "ipython",
    "version": 3
   },
   "file_extension": ".py",
   "mimetype": "text/x-python",
   "name": "python",
   "nbconvert_exporter": "python",
   "pygments_lexer": "ipython3",
   "version": "3.12.4"
  }
 },
 "nbformat": 4,
 "nbformat_minor": 5
}
