{
 "cells": [
  {
   "cell_type": "code",
   "execution_count": 1,
   "id": "7d7ff39b",
   "metadata": {},
   "outputs": [
    {
     "name": "stderr",
     "output_type": "stream",
     "text": [
      "c:\\Users\\techin\\Complaint_Analysis_Financial_Services\\venv\\Lib\\site-packages\\tqdm\\auto.py:21: TqdmWarning: IProgress not found. Please update jupyter and ipywidgets. See https://ipywidgets.readthedocs.io/en/stable/user_install.html\n",
      "  from .autonotebook import tqdm as notebook_tqdm\n"
     ]
    }
   ],
   "source": [
    "import faiss\n",
    "import pickle\n",
    "import numpy as np\n",
    "from sentence_transformers import SentenceTransformer\n",
    "from transformers import AutoTokenizer, AutoModelForSeq2SeqLM, pipeline"
   ]
  },
  {
   "cell_type": "code",
   "execution_count": 2,
   "id": "450732a3",
   "metadata": {},
   "outputs": [
    {
     "name": "stdout",
     "output_type": "stream",
     "text": [
      "Loading embeddings and vector store...\n",
      "Loaded FAISS index with 1213532 vectors.\n",
      "Loaded metadata with 1213532 records.\n"
     ]
    }
   ],
   "source": [
    "# ✅ Load your index and metadata from ABSOLUTE Windows paths\n",
    "faiss_index_path = r\"C:\\Users\\techin\\Complaint_Analysis_Financial_Services\\vector_store\\directory\\complaints_index.faiss\"\n",
    "metadata_path = r\"C:\\Users\\techin\\Complaint_Analysis_Financial_Services\\vector_store\\directory\\complaints_metadata.pkl\"\n",
    "\n",
    "print(\"Loading embeddings and vector store...\")\n",
    "index = faiss.read_index(faiss_index_path)\n",
    "with open(metadata_path, \"rb\") as f:\n",
    "    metadata = pickle.load(f)\n",
    "\n",
    "print(f\"Loaded FAISS index with {index.ntotal} vectors.\")\n",
    "print(f\"Loaded metadata with {len(metadata)} records.\")"
   ]
  },
  {
   "cell_type": "code",
   "execution_count": 3,
   "id": "e49fc82d",
   "metadata": {},
   "outputs": [
    {
     "name": "stdout",
     "output_type": "stream",
     "text": [
      "Loading local LLM model...\n"
     ]
    },
    {
     "name": "stderr",
     "output_type": "stream",
     "text": [
      "Xet Storage is enabled for this repo, but the 'hf_xet' package is not installed. Falling back to regular HTTP download. For better performance, install the package with: `pip install huggingface_hub[hf_xet]` or `pip install hf_xet`\n",
      "c:\\Users\\techin\\Complaint_Analysis_Financial_Services\\venv\\Lib\\site-packages\\huggingface_hub\\file_download.py:143: UserWarning: `huggingface_hub` cache-system uses symlinks by default to efficiently store duplicated files but your machine does not support them in C:\\Users\\techin\\.cache\\huggingface\\hub\\models--google--flan-t5-large. Caching files will still work but in a degraded version that might require more space on your disk. This warning can be disabled by setting the `HF_HUB_DISABLE_SYMLINKS_WARNING` environment variable. For more details, see https://huggingface.co/docs/huggingface_hub/how-to-cache#limitations.\n",
      "To support symlinks on Windows, you either need to activate Developer Mode or to run Python as an administrator. In order to activate developer mode, see this article: https://docs.microsoft.com/en-us/windows/apps/get-started/enable-your-device-for-development\n",
      "  warnings.warn(message)\n",
      "Device set to use cpu\n"
     ]
    },
    {
     "name": "stdout",
     "output_type": "stream",
     "text": [
      "All models loaded successfully.\n",
      "\n"
     ]
    }
   ],
   "source": [
    "# ✅ Load embedding model\n",
    "embedding_model = SentenceTransformer(\"sentence-transformers/all-MiniLM-L6-v2\")\n",
    "\n",
    "# --------------------------------------------------------------------------------\n",
    "# ✅ Load local text generation model (flan-t5-large)\n",
    "print(\"Loading local LLM model...\")\n",
    "model_name = \"google/flan-t5-large\"\n",
    "tokenizer = AutoTokenizer.from_pretrained(model_name)\n",
    "model = AutoModelForSeq2SeqLM.from_pretrained(model_name)\n",
    "generator = pipeline(\"text2text-generation\", model=model, tokenizer=tokenizer, device=-1)  # -1 means CPU\n",
    "\n",
    "print(\"All models loaded successfully.\\n\")"
   ]
  },
  {
   "cell_type": "code",
   "execution_count": 5,
   "id": "1d2e6b6b",
   "metadata": {},
   "outputs": [],
   "source": [
    "# 🔍 Function: Retrieve top-k chunks\n",
    "def retrieve_top_k(query, k=5):\n",
    "    query_embedding = embedding_model.encode([query])\n",
    "    D, I = index.search(np.array(query_embedding).astype(\"float32\"), k)\n",
    "    return [metadata[i] for i in I[0]]\n",
    "\n",
    "# 📝 Build the structured prompt\n",
    "def build_prompt(context_chunks, question):\n",
    "    context_text = \"\\n\".join([chunk.get(\"text\", \"\") for chunk in context_chunks])\n",
    "    prompt = (\n",
    "        f\"You are a financial analyst assistant for CrediTrust.\\n\"\n",
    "        f\"Your task is to answer questions about customer complaints.\\n\"\n",
    "        f\"Use ONLY the following retrieved complaint excerpts to answer. \"\n",
    "        f\"If you don't have enough information, say so.\\n\\n\"\n",
    "        f\"Context:\\n{context_text}\\n\\n\"\n",
    "        f\"Question: {question}\\n\"\n",
    "        f\"Answer:\"\n",
    "    )\n",
    "    return prompt"
   ]
  },
  {
   "cell_type": "code",
   "execution_count": 9,
   "id": "e05143b9",
   "metadata": {},
   "outputs": [],
   "source": [
    "# 🚀 Run local generation\n",
    "def generate_answer_local(prompt):\n",
    "    result = generator(prompt, max_new_tokens=200)\n",
    "    return result[0]['generated_text'].strip()\n",
    "\n",
    "# 🚀 Full QA pipeline\n",
    "def answer_question(question, k=5):\n",
    "    retrieved_chunks = retrieve_top_k(question, k)\n",
    "    prompt = build_prompt(retrieved_chunks, question)\n",
    "    answer = generate_answer_local(prompt)\n",
    "    return answer, retrieved_chunks"
   ]
  },
  {
   "cell_type": "code",
   "execution_count": 10,
   "id": "119c621a",
   "metadata": {},
   "outputs": [
    {
     "name": "stdout",
     "output_type": "stream",
     "text": [
      "✅ Finished: 'Why are people unhappy with BNPL?' in 885.35s\n",
      "✅ Finished: 'Are there complaints about hidden fees in personal loans?' in 532.32s\n",
      "✅ Finished: 'Why are money transfers delayed?' in 805.64s\n",
      "✅ Finished: 'What issues do users report with savings accounts?' in 267.25s\n",
      "✅ Finished: 'Why are credit card applications rejected frequently?' in 29.65s\n",
      "\n",
      "🎉 Done! Evaluation saved to 'evaluation_report.md'\n"
     ]
    }
   ],
   "source": [
    "# 🔍 Qualitative Evaluation: test on representative questions\n",
    "import time\n",
    "\n",
    "questions = [\n",
    "    \"Why are people unhappy with BNPL?\",\n",
    "    \"Are there complaints about hidden fees in personal loans?\",\n",
    "    \"Why are money transfers delayed?\",\n",
    "    \"What issues do users report with savings accounts?\",\n",
    "    \"Why are credit card applications rejected frequently?\"\n",
    "]\n",
    "\n",
    "# Write the header to the markdown file\n",
    "with open(\"evaluation_report.md\", \"w\", encoding=\"utf-8\") as f:\n",
    "    f.write(\"# 📊 Qualitative Evaluation Table (Markdown format)\\n\\n\")\n",
    "    f.write(\"| Question | Generated Answer | Retrieved Sources | Quality Score (1-5) | Comments |\\n\")\n",
    "    f.write(\"|---|---|---|---|---|\\n\")\n",
    "\n",
    "    # Iterate through your predefined questions\n",
    "    for q in questions:\n",
    "        start_time = time.time()\n",
    "        answer, retrieved = answer_question(q)\n",
    "        elapsed = time.time() - start_time\n",
    "        \n",
    "        # Format top 2 retrieved chunks\n",
    "        top_sources = \" | \".join([\n",
    "            chunk.get(\"text\", \"\").replace(\"\\n\", \" \")[:60] + \"...\" \n",
    "            for chunk in retrieved[:2]\n",
    "        ])\n",
    "        \n",
    "        # Write row to markdown\n",
    "        f.write(f\"| {q} | {answer[:80]}... | {top_sources} |  |  |\\n\")\n",
    "        \n",
    "        print(f\"✅ Finished: '{q}' in {elapsed:.2f}s\")\n",
    "\n",
    "print(\"\\n🎉 Done! Evaluation saved to 'evaluation_report.md'\")"
   ]
  },
  {
   "cell_type": "code",
   "execution_count": null,
   "id": "71a3c6a9",
   "metadata": {},
   "outputs": [],
   "source": []
  }
 ],
 "metadata": {
  "kernelspec": {
   "display_name": "venv",
   "language": "python",
   "name": "python3"
  },
  "language_info": {
   "codemirror_mode": {
    "name": "ipython",
    "version": 3
   },
   "file_extension": ".py",
   "mimetype": "text/x-python",
   "name": "python",
   "nbconvert_exporter": "python",
   "pygments_lexer": "ipython3",
   "version": "3.12.4"
  }
 },
 "nbformat": 4,
 "nbformat_minor": 5
}
